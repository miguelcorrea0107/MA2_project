{
 "cells": [
  {
   "cell_type": "markdown",
   "metadata": {},
   "source": [
    "# Inverter Based Amplifier"
   ]
  },
  {
   "cell_type": "code",
   "execution_count": 1,
   "metadata": {},
   "outputs": [],
   "source": [
    "import sympy as sp\n",
    "from scipy.optimize import minimize\n",
    "import numpy as np\n",
    "import ltspice\n",
    "from scipy.signal import TransferFunction, bode\n",
    "import ipywidgets as widgets\n",
    "from IPython.display import display\n",
    "import matplotlib.pyplot as plt\n",
    "import re"
   ]
  },
  {
   "cell_type": "code",
   "execution_count": 2,
   "metadata": {},
   "outputs": [],
   "source": [
    "version = 1"
   ]
  },
  {
   "cell_type": "markdown",
   "metadata": {},
   "source": [
    "### Loading values of parameters"
   ]
  },
  {
   "cell_type": "code",
   "execution_count": 3,
   "metadata": {},
   "outputs": [
    {
     "name": "stdout",
     "output_type": "stream",
     "text": [
      "The values of the parameters are: \n",
      "Vdd =  1.125\n",
      "Wn =  250.0\n",
      "Ln =  1.0\n",
      "Wp =  200.0\n",
      "Lp =  0.25\n",
      "Wr1 =  0.15\n",
      "Lr1 =  180000.0\n",
      "R_1 =  2400000000.0\n",
      "Wr2 =  0.15\n",
      "Lr2 =  1000.0\n",
      "R_2 =  13333333.333333334\n",
      "Wc1 =  22.0\n",
      "Lc1 =  22.0\n",
      "MFc1 =  1.0\n",
      "C_1 =  9.8472e-13\n",
      "Wc2 =  14.0\n",
      "Lc2 =  15.0\n",
      "MFc2 =  1.0\n",
      "C_2 =  4.3102e-13\n",
      "Vdc =  0.44866\n"
     ]
    },
    {
     "ename": "FileNotFoundError",
     "evalue": "[Errno 2] No such file or directory: '../netlist/tb_inv_sky130_a_op_v1.raw'",
     "output_type": "error",
     "traceback": [
      "\u001b[0;31m---------------------------------------------------------------------------\u001b[0m",
      "\u001b[0;31mFileNotFoundError\u001b[0m                         Traceback (most recent call last)",
      "Input \u001b[0;32mIn [3]\u001b[0m, in \u001b[0;36m<cell line: 3>\u001b[0;34m()\u001b[0m\n\u001b[1;32m    113\u001b[0m filepath \u001b[38;5;241m=\u001b[39m \u001b[38;5;124m'\u001b[39m\u001b[38;5;124m../netlist/tb_inv_sky130_a_op_v1.raw\u001b[39m\u001b[38;5;124m'\u001b[39m  \u001b[38;5;66;03m# Update to your file's path\u001b[39;00m\n\u001b[1;32m    115\u001b[0m \u001b[38;5;66;03m# Load the LTSpice file\u001b[39;00m\n\u001b[0;32m--> 116\u001b[0m lt \u001b[38;5;241m=\u001b[39m \u001b[43mltspice\u001b[49m\u001b[38;5;241;43m.\u001b[39;49m\u001b[43mLtspice\u001b[49m\u001b[43m(\u001b[49m\u001b[43mfilepath\u001b[49m\u001b[43m)\u001b[49m\n\u001b[1;32m    117\u001b[0m lt\u001b[38;5;241m.\u001b[39mparse()\n\u001b[1;32m    119\u001b[0m \u001b[38;5;66;03m# Get the data by specifying the trace name\u001b[39;00m\n",
      "File \u001b[0;32m~/opt/miniconda3/lib/python3.9/site-packages/ltspice/ltspice.py:62\u001b[0m, in \u001b[0;36mLtspice.__init__\u001b[0;34m(self, file_path, mode, file_type, x_dtype, y_dtype, encoding)\u001b[0m\n\u001b[1;32m     59\u001b[0m \u001b[38;5;28mself\u001b[39m\u001b[38;5;241m.\u001b[39m_encoding   \u001b[38;5;241m=\u001b[39m encoding\n\u001b[1;32m     61\u001b[0m \u001b[38;5;28mself\u001b[39m\u001b[38;5;241m.\u001b[39mheader_size \u001b[38;5;241m=\u001b[39m \u001b[38;5;241m0\u001b[39m\n\u001b[0;32m---> 62\u001b[0m \u001b[38;5;28;43mself\u001b[39;49m\u001b[38;5;241;43m.\u001b[39;49m\u001b[43mread_header\u001b[49m\u001b[43m(\u001b[49m\u001b[43m)\u001b[49m\n",
      "File \u001b[0;32m~/opt/miniconda3/lib/python3.9/site-packages/ltspice/ltspice.py:69\u001b[0m, in \u001b[0;36mLtspice.read_header\u001b[0;34m(self)\u001b[0m\n\u001b[1;32m     68\u001b[0m \u001b[38;5;28;01mdef\u001b[39;00m \u001b[38;5;21mread_header\u001b[39m(\u001b[38;5;28mself\u001b[39m)\u001b[38;5;241m-\u001b[39m\u001b[38;5;241m>\u001b[39m\u001b[38;5;28;01mNone\u001b[39;00m:\n\u001b[0;32m---> 69\u001b[0m     filesize \u001b[38;5;241m=\u001b[39m \u001b[43mos\u001b[49m\u001b[38;5;241;43m.\u001b[39;49m\u001b[43mstat\u001b[49m\u001b[43m(\u001b[49m\u001b[38;5;28;43mself\u001b[39;49m\u001b[38;5;241;43m.\u001b[39;49m\u001b[43mfile_path\u001b[49m\u001b[43m)\u001b[49m\u001b[38;5;241m.\u001b[39mst_size\n\u001b[1;32m     71\u001b[0m     \u001b[38;5;66;03m# if the file is too big, read only the designated amount of bytes\u001b[39;00m\n\u001b[1;32m     72\u001b[0m     \u001b[38;5;28;01mwith\u001b[39;00m \u001b[38;5;28mopen\u001b[39m(\u001b[38;5;28mself\u001b[39m\u001b[38;5;241m.\u001b[39mfile_path, \u001b[38;5;124m'\u001b[39m\u001b[38;5;124mrb\u001b[39m\u001b[38;5;124m'\u001b[39m) \u001b[38;5;28;01mas\u001b[39;00m f:\n",
      "\u001b[0;31mFileNotFoundError\u001b[0m: [Errno 2] No such file or directory: '../netlist/tb_inv_sky130_a_op_v1.raw'"
     ]
    }
   ],
   "source": [
    "# Arrays to store the results of the simulations\n",
    "\n",
    "if version == 1:\n",
    "    param_values = np.zeros(19)    # order: Vdd, Wn, Ln, Wp, Lp, Wr1, Lr1, R_1, Wr2, Lr2, R_2, Wc1, Lc1, MFc1, C_1, Wc2, Lc2, Mfc2, C_2 Vdc\n",
    "\n",
    "    def extract_spice_params(file_path):\n",
    "        # Parameters to extract\n",
    "        params = {\n",
    "            'Vdd': None,\n",
    "            'Wn': None,\n",
    "            'Ln': None,\n",
    "            'Wp': None,\n",
    "            'Lp': None,\n",
    "            'Wr1': None,\n",
    "            'Lr1': None,\n",
    "            'R_1': None,\n",
    "            'Wr2': None,\n",
    "            'Lr2': None,\n",
    "            'R_2': None,\n",
    "            'Wc1': None,\n",
    "            'Lc1': None,\n",
    "            'MFc1': None,\n",
    "            'C_1': None,\n",
    "            'Wc2': None,\n",
    "            'Lc2': None,\n",
    "            'MFc2': None,\n",
    "            'C_2': None,\n",
    "            'Vdc': None\n",
    "        }\n",
    "        \n",
    "        # Open and read the SPICE file\n",
    "        with open(file_path, 'r') as file:\n",
    "            content = file.readlines()\n",
    "        \n",
    "        # Regex patterns to capture values\n",
    "        patterns = {\n",
    "            'Vdd': r'VP VCC GND (\\d+\\.?\\d*)',\n",
    "            'Vdc': r'Vin in GND (\\d+\\.?\\d*) ac',\n",
    "            'Wn': r'x1 test net1 VCC VSS not W_N=(\\d+\\.?\\d*) L_N=',  # Adjusted to target the specific line\n",
    "            'Ln': r'x1 test net1 VCC VSS not .*L_N=(\\d+\\.?\\d*) W_P=',  # Adjusted to target the specific line\n",
    "            'Wp': r'x1 test net1 VCC VSS not .*W_P=(\\d+\\.?\\d*)',\n",
    "            'Lp': r'x1 test net1 VCC VSS not .*L_P=(\\d+\\.?\\d*) m=',  # Adjusted to target the specific line\n",
    "            'Wr1': r'XR1 .+ W=(\\d+\\.?\\d*) L=',\n",
    "            'Lr1': r'XR1 .+ L=(\\d+\\.?\\d*) mult=',\n",
    "            'R_1': r'XR1 .+ mult=(\\d+\\.?\\d*)',\n",
    "            'Wr2': r'XR2 .+ W=(\\d+\\.?\\d*) L=',\n",
    "            'Lr2': r'XR2 .+ L=(\\d+\\.?\\d*) mult=',\n",
    "            'R_2': r'XR2 .+ mult=(\\d+\\.?\\d*)',\n",
    "            'Wc1': r'XC1 .+ W=(\\d+\\.?\\d*) L=',\n",
    "            'Lc1': r'XC1 .+ L=(\\d+\\.?\\d*)',\n",
    "            'MFc1': r'XC1 .+ MF=(\\d+\\.?\\d*) m=',\n",
    "            'Wc2': r'XC2 .+ W=(\\d+\\.?\\d*) L=',\n",
    "            'Lc2': r'XC2 .+ L=(\\d+\\.?\\d*)',\n",
    "            'MFc2': r'XC2 .+ MF=(\\d+\\.?\\d*) m='\n",
    "        }\n",
    "        \n",
    "        # Extract parameters\n",
    "        for line in content:\n",
    "            for key, pattern in patterns.items():\n",
    "                match = re.search(pattern, line)\n",
    "                if match:\n",
    "                    params[key] = float(match.group(1))\n",
    "\n",
    "        # Calculate capacitance using the given formula\n",
    "        if params['Wc1'] and params['Lc1'] and params['MFc1']:\n",
    "            params['C_1'] = params['MFc1'] * params['Wc1'] * params['Lc1']  # Simple multiplication\n",
    "        \n",
    "        # Calculate capacitance using the given formula\n",
    "        if params['Wc2'] and params['Lc2'] and params['MFc2']:\n",
    "            params['C_2'] = params['MFc2'] * params['Wc2'] * params['Lc2']  # Simple multiplication\n",
    "\n",
    "        # Convert to NumPy array\n",
    "        param_values = np.array([params[key] for key in params], dtype=float)\n",
    "        \n",
    "        return param_values\n",
    "\n",
    "    # Usage\n",
    "    file_path = \"../netlist/tb_inv_sky130_a_v1.spice\"\n",
    "    param_values = extract_spice_params(file_path)\n",
    "    print(\"The values of the parameters are: \")\n",
    "    print(\"Vdd = \", param_values[0])\n",
    "    print(\"Wn = \", param_values[1])\n",
    "    print(\"Ln = \", param_values[2])\n",
    "    print(\"Wp = \", param_values[3])\n",
    "    print(\"Lp = \", param_values[4])\n",
    "    print(\"Wr1 = \", param_values[5])\n",
    "    print(\"Lr1 = \", param_values[6])\n",
    "    param_values[7] = 2e3*param_values[6]/param_values[5]\n",
    "    print(\"R_1 = \", param_values[7])\n",
    "    print(\"Wr2 = \", param_values[8])\n",
    "    print(\"Lr2 = \", param_values[9])\n",
    "    param_values[10] = 2e3*param_values[9]/param_values[8]\n",
    "    print(\"R_2 = \", param_values[10])\n",
    "    print(\"Wc1 = \", param_values[11])\n",
    "    print(\"Lc1 = \", param_values[12])\n",
    "    print(\"MFc1 = \", param_values[13])\n",
    "    param_values[14] = param_values[13] * (param_values[11] * param_values[12] * 2e-15 + (param_values[11] + param_values[12]) * 0.38e-15)\n",
    "    print(\"C_1 = \", param_values[14])\n",
    "    print(\"Wc2 = \", param_values[15])\n",
    "    print(\"Lc2 = \", param_values[16])\n",
    "    print(\"MFc2 = \", param_values[17])\n",
    "    param_values[18] = param_values[17] * (param_values[16] * param_values[15] * 2e-15 + (param_values[16] + param_values[15]) * 0.38e-15)\n",
    "    print(\"C_2 = \", param_values[18])\n",
    "    print(\"Vdc = \", param_values[19])\n",
    "\n",
    "    R1_value = param_values[7]\n",
    "    R2_value = param_values[10]\n",
    "    C1_value = param_values[14]*1e15   # Convert to fF\n",
    "    C2_value = param_values[18]*1e15    # Convert to fF\n",
    "\n",
    "    op = np.zeros(8)    # order: G_mn, G_mp, G_dsn, G_dsp, C_gsn, C_gsp, C_gdn, C_gdp\n",
    "\n",
    "    filepath = '../netlist/tb_inv_sky130_a_op_v1.raw'  # Update to your file's path\n",
    "\n",
    "    # Load the LTSpice file\n",
    "    lt = ltspice.Ltspice(filepath)\n",
    "    lt.parse()\n",
    "\n",
    "    # Get the data by specifying the trace name\n",
    "    gmn = lt.get_data('gmn')\n",
    "    gmp = lt.get_data('gmp')\n",
    "    gdsn = lt.get_data('gdsn')\n",
    "    gdsp = lt.get_data('gdsp')\n",
    "    cgsn = lt.get_data('cgsn')\n",
    "    cgsp = lt.get_data('cgsp')\n",
    "    cgdn = lt.get_data('cgdn')\n",
    "    cgdp = lt.get_data('cgdp')\n",
    "    # Create numpy array\n",
    "    #The values are stored in the following order: G_mn, G_mp, G_dsn, G_dsp, C_gsn, C_gsp\n",
    "    op = np.array([gmn, gmp, gdsn, gdsp, abs(cgsn), abs(cgsp), abs(cgdn), abs(cgdp)]).flatten()\n",
    "    print(\"The operating point values are:\")\n",
    "    print(\"gmn = \", op[0])\n",
    "    print(\"gmp = \", op[1])\n",
    "    print(\"gdsn = \", op[2])\n",
    "    print(\"gdsp = \", op[3])\n",
    "    print(\"cgsn = \", op[4])\n",
    "    print(\"cgsp = \", op[5])\n",
    "    print(\"cgdn = \", op[6])\n",
    "    print(\"cgdp = \", op[7])"
   ]
  },
  {
   "cell_type": "markdown",
   "metadata": {},
   "source": [
    "## Transfer function"
   ]
  },
  {
   "cell_type": "markdown",
   "metadata": {},
   "source": [
    "### Using the driving point signal flow graph of this circuit, we find the transfer function easily. For more information about this technique, see: Schmid, Hanspeter, et Alex Huber. « Analysis of Switched-Capacitor Circuits Using Driving-Point Signal-Flow Graphs ». Analog Integrated Circuits and Signal Processing 96, nᵒ 3 (septembre 2018): 495‑507. https://doi.org/10.1007/s10470-018-1131-7.\n"
   ]
  },
  {
   "cell_type": "markdown",
   "metadata": {},
   "source": [
    "### Transfer function and signal flow graph"
   ]
  },
  {
   "cell_type": "markdown",
   "metadata": {},
   "source": [
    "#### Driving Point Signal Flow Graph:"
   ]
  },
  {
   "cell_type": "markdown",
   "metadata": {},
   "source": []
  },
  {
   "cell_type": "code",
   "execution_count": null,
   "metadata": {},
   "outputs": [
    {
     "name": "stdout",
     "output_type": "stream",
     "text": [
      "The transfer function is: \n"
     ]
    },
    {
     "data": {
      "text/latex": [
       "$\\displaystyle - \\frac{C_{1} R_{1} R_{2} s \\left(R_{1} \\left(C_{gdn} s + C_{gdp} s - G_{mn} - G_{mp}\\right) + 1\\right)}{R_{1} \\left(R_{1} s \\left(C_{1} + C_{gdn} + C_{gdp} + C_{gsn} + C_{gsp}\\right) + 1\\right) + R_{2} \\left(R_{1} \\left(C_{gdn} s + C_{gdp} s - G_{mn} - G_{mp}\\right) + 1\\right) \\left(C_{2} R_{2} s + 1\\right) \\left(R_{1} s \\left(C_{gdn} + C_{gdp}\\right) + 1\\right) - \\left(C_{2} R_{2} s + 1\\right) \\left(R_{1} s \\left(C_{1} + C_{gdn} + C_{gdp} + C_{gsn} + C_{gsp}\\right) + 1\\right) \\left(R_{1} R_{2} \\left(C_{gdn} s + C_{gdp} s + G_{dsn} + G_{dsp}\\right) + R_{1} + R_{2}\\right)}$"
      ],
      "text/plain": [
       "-C_1*R_1*R_2*s*(R_1*(C_gdn*s + C_gdp*s - G_mn - G_mp) + 1)/(R_1*(R_1*s*(C_1 + C_gdn + C_gdp + C_gsn + C_gsp) + 1) + R_2*(R_1*(C_gdn*s + C_gdp*s - G_mn - G_mp) + 1)*(C_2*R_2*s + 1)*(R_1*s*(C_gdn + C_gdp) + 1) - (C_2*R_2*s + 1)*(R_1*s*(C_1 + C_gdn + C_gdp + C_gsn + C_gsp) + 1)*(R_1*R_2*(C_gdn*s + C_gdp*s + G_dsn + G_dsp) + R_1 + R_2))"
      ]
     },
     "metadata": {},
     "output_type": "display_data"
    }
   ],
   "source": [
    "Delta = sp.symbols('Delta')\n",
    "L1,L2 = sp.symbols('L1,L2')\n",
    "T_num = sp.symbols('T_num')\n",
    "T_den = sp.symbols('T_den')\n",
    "T_io = sp.symbols('T_io')\n",
    "G_dsn,C_2,G_dsp,C_gdp,R_1,C_gsn,C_1,G_mn,C_gsp,G_mp,s,C_gdn,R_2 = sp.symbols('G_dsn,C_2,G_dsp,C_gdp,R_1,C_gsn,C_1,G_mn,C_gsp,G_mp,s,C_gdn,R_2')\n",
    "\n",
    "loops = [(L1, (C_gdn*s + C_gdp*s + 1/R_1)*(C_gdn*s + C_gdp*s - G_mn - G_mp + 1/R_1)/((C_1*s + C_gdn*s + C_gdp*s + C_gsn*s + C_gsp*s + 1/R_1)*(C_gdn*s + C_gdp*s + G_dsn + G_dsp + 1/R_2 + 1/R_1))), (L2, 1/(R_2**2*(C_2*s + 1/R_2)*(C_gdn*s + C_gdp*s + G_dsn + G_dsp + 1/R_2 + 1/R_1)))]\n",
    "determinant = [(Delta, -L1 - L2 + 1)]\n",
    "denominator = [(T_den, Delta)]\n",
    "\n",
    "P1,D1 = sp.symbols('P1,D1')\n",
    "paths = [(P1, C_1*s*(C_gdn*s + C_gdp*s - G_mn - G_mp + 1/R_1)/(R_2*(C_2*s + 1/R_2)*(C_1*s + C_gdn*s + C_gdp*s + C_gsn*s + C_gsp*s + 1/R_1)*(C_gdn*s + C_gdp*s + G_dsn + G_dsp + 1/R_2 + 1/R_1))), (D1, 1)]\n",
    "numerator = [(T_num, D1*P1)]\n",
    "\n",
    "transfer_function = [(T_io, T_num/T_den)]\n",
    "T=T_io.subs(transfer_function).subs(numerator).subs(denominator).subs(determinant).subs(paths).subs(loops).simplify()\n",
    "\n",
    "print(\"The transfer function is: \")\n",
    "display(T)"
   ]
  },
  {
   "cell_type": "markdown",
   "metadata": {},
   "source": [
    "#### Frequency response"
   ]
  },
  {
   "cell_type": "code",
   "execution_count": null,
   "metadata": {},
   "outputs": [
    {
     "name": "stdout",
     "output_type": "stream",
     "text": [
      "The peak gain is approximately 29.65 dB\n",
      "The lower cutoff frequency is approximately 1951.32 Hz\n",
      "The upper cutoff frequency is approximately 30.84 kHz\n"
     ]
    },
    {
     "data": {
      "image/png": "[encoded data removed]",
      "text/plain": [
       "<Figure size 720x360 with 1 Axes>"
      ]
     },
     "metadata": {
      "needs_background": "light"
     },
     "output_type": "display_data"
    }
   ],
   "source": [
    "if version == 1:\n",
    "    T_num = T.subs([(G_mn, op[0]), (G_mp, op[1]), (G_dsn, op[2]), \n",
    "                    (G_dsp, op[3]), (C_gsn, op[4]), (C_gsp, op[5]),\n",
    "                    (C_gdn, op[6]), (C_gdp, op[7]),\n",
    "                    (R_1, param_values[7]), (R_2, param_values[10]),\n",
    "                    (C_1, param_values[14]), (C_2, param_values[18])])\n",
    "\n",
    "# Replace this example with your actual transfer function\n",
    "num, den = sp.fraction(T_num)  # T is your transfer function in symbolic form\n",
    "num = sp.expand(num)\n",
    "den = sp.expand(den)\n",
    "num_coeffs = [float(c) for c in sp.Poly(num, s).all_coeffs()]\n",
    "den_coeffs = [float(c) for c in sp.Poly(den, s).all_coeffs()]\n",
    "\n",
    "sys = TransferFunction(num_coeffs, den_coeffs)\n",
    "\n",
    "w, mag, phase = bode(sys, n=10000)\n",
    "\n",
    "# Convert magnitude in dB to numpy array\n",
    "mag_array = np.array(mag)\n",
    "\n",
    "# Calculate the peak gain\n",
    "peak_gain = np.max(mag_array)\n",
    "peak_gain_index = np.argmax(mag_array)\n",
    "\n",
    "# Find the lower cutoff frequency by searching to the left of the peak gain index\n",
    "left_side = mag_array[:peak_gain_index]\n",
    "lower_cutoff_indices = np.where(left_side <= peak_gain - 3)[0]\n",
    "lower_cutoff_frequency = w[lower_cutoff_indices[-1]] / (2 * np.pi) if lower_cutoff_indices.size > 0 else None\n",
    "\n",
    "# For the upper cutoff frequency, find the closest to the simulation result (your method)\n",
    "upper_cutoff_index = np.argmin(np.abs(mag_array[peak_gain_index:] - (peak_gain - 3))) + peak_gain_index\n",
    "upper_cutoff_frequency = w[upper_cutoff_index] / (2 * np.pi)\n",
    "\n",
    "# Print the results\n",
    "print(f\"The peak gain is approximately {peak_gain:.2f} dB\")\n",
    "print(f\"The lower cutoff frequency is approximately {lower_cutoff_frequency:.2f} Hz\" if lower_cutoff_frequency else \"Lower cutoff frequency not found.\")\n",
    "print(f\"The upper cutoff frequency is approximately {upper_cutoff_frequency/1e3:.2f} kHz\" if upper_cutoff_frequency else \"Upper cutoff frequency not found.\")\n",
    "\n",
    "# Plot the Bode plot for gain\n",
    "plt.figure(figsize=(10, 5))\n",
    "plt.semilogx(w / (2 * np.pi), mag_array, label='Gain (dB)')\n",
    "plt.axhline(y=peak_gain - 3, color='green', linestyle='--', label='-3 dB line')\n",
    "if lower_cutoff_frequency:\n",
    "    plt.axvline(x=lower_cutoff_frequency, color='red', linestyle='--', label='Lower Cutoff Frequency')\n",
    "if upper_cutoff_frequency:\n",
    "    plt.axvline(x=upper_cutoff_frequency, color='blue', linestyle='--', label='Upper Cutoff Frequency')\n",
    "plt.title('Bode Plot of Gain')\n",
    "plt.xlabel('Frequency (Hz)')\n",
    "plt.ylabel('Magnitude (dB)')\n",
    "plt.grid(which='both', linestyle='-', linewidth=0.5)\n",
    "plt.legend()\n",
    "plt.show()\n"
   ]
  },
  {
   "cell_type": "markdown",
   "metadata": {},
   "source": [
    "#### Iterative help"
   ]
  },
  {
   "cell_type": "code",
   "execution_count": null,
   "metadata": {},
   "outputs": [],
   "source": [
    "# Function to create a transfer function and plot it\n",
    "if version == 1:\n",
    "    T_temp = T.subs([(G_mn, op[0]), (G_mp, op[1]), (G_dsn, op[2]),\n",
    "                    (G_dsp, op[3]), (C_gsn, op[4]), (C_gsp, op[5]),\n",
    "                    (C_gdn, op[6]), (C_gdp, op[7]),\n",
    "                    (C_1, param_values[14]), (C_2, param_values[18])])\n",
    "    \n",
    "def update_plot(R1_val, R2_val):\n",
    "    param_values = {R_1: R1_val, R_2: R2_val}  # C fixed\n",
    "    T_num_eval = T_temp.subs(param_values)\n",
    "    num, den = sp.fraction(T_num_eval)  # Assumes T is your transfer function in symbolic form\n",
    "    num = sp.expand(num)\n",
    "    den = sp.expand(den)\n",
    "    num_coeffs = [float(c) for c in sp.Poly(num, s).all_coeffs()]\n",
    "    den_coeffs = [float(c) for c in sp.Poly(den, s).all_coeffs()]\n",
    "    \n",
    "    sys = TransferFunction(num_coeffs, den_coeffs)\n",
    "    w, mag, phase = bode(sys, 10000)\n",
    "    \n",
    "    # Convert magnitude in dB to numpy array\n",
    "    mag_array = np.array(mag)\n",
    "\n",
    "    # Convert magnitude in dB to numpy array\n",
    "    mag_array = np.array(mag)\n",
    "\n",
    "    # Calculate the peak gain\n",
    "    peak_gain = np.max(mag_array)\n",
    "    peak_gain_index = np.argmax(mag_array)\n",
    "\n",
    "    # Find the lower cutoff frequency by searching to the left of the peak gain index\n",
    "    left_side = mag_array[:peak_gain_index]\n",
    "    lower_cutoff_indices = np.where(left_side <= peak_gain - 3)[0]\n",
    "    lower_cutoff_frequency = w[lower_cutoff_indices[-1]] / (2 * np.pi) if lower_cutoff_indices.size > 0 else None\n",
    "\n",
    "    # For the upper cutoff frequency, find the closest to the simulation result (your method)\n",
    "    upper_cutoff_index = np.argmin(np.abs(mag_array[peak_gain_index:] - (peak_gain - 3))) + peak_gain_index\n",
    "    upper_cutoff_frequency = w[upper_cutoff_index] / (2 * np.pi)\n",
    "    \n",
    "    # Print the results\n",
    "    print(f\"The peak gain is approximately {peak_gain:.2f} dB\")\n",
    "    print(f\"The lower cutoff frequency is approximately {lower_cutoff_frequency:.2f} Hz\" if lower_cutoff_frequency else \"Lower cutoff frequency not found.\")\n",
    "    print(f\"The upper cutoff frequency is approximately {upper_cutoff_frequency/1e3:.2f} kHz\" if upper_cutoff_frequency else \"Upper cutoff frequency not found.\")\n",
    "\n",
    "    # Plotting\n",
    "    plt.figure(figsize=(10, 5))\n",
    "    plt.semilogx(w / (2 * np.pi), mag_array, label='Gain (dB)')\n",
    "    plt.title('Bode Plot of Gain')\n",
    "    plt.xlabel('Frequency (Hz)')\n",
    "    plt.ylabel('Magnitude (dB)')\n",
    "    plt.grid(True)\n",
    "    plt.legend()\n",
    "    plt.show()\n",
    "\n",
    "# Create sliders for R1, R2, C2\n",
    "R1_slider = widgets.FloatLogSlider(value=param_values[7], base=10, min=0, max=15, step=0.1, description='R1 (Ohms)')\n",
    "R2_slider = widgets.FloatLogSlider(value=param_values[10], base=10, min=0, max=15, step=0.1, description='R2 (Ohms)')"
   ]
  },
  {
   "cell_type": "code",
   "execution_count": null,
   "metadata": {},
   "outputs": [
    {
     "data": {
      "application/vnd.jupyter.widget-view+json": {
       "model_id": "178cd9971f0b44dea7728e59cdede155",
       "version_major": 2,
       "version_minor": 0
      },
      "text/plain": [
       "interactive(children=(FloatLogSlider(value=2400000000.0, description='R1 (Ohms)', max=15.0), FloatLogSlider(va…"
      ]
     },
     "metadata": {},
     "output_type": "display_data"
    }
   ],
   "source": [
    "\n",
    "# Display the interactive output\n",
    "widgets.interactive(update_plot, R1_val=R1_slider, R2_val=R2_slider)"
   ]
  }
 ],
 "metadata": {
  "kernelspec": {
   "display_name": "Python 3",
   "language": "python",
   "name": "python3"
  },
  "language_info": {
   "codemirror_mode": {
    "name": "ipython",
    "version": 3
   },
   "file_extension": ".py",
   "mimetype": "text/x-python",
   "name": "python",
   "nbconvert_exporter": "python",
   "pygments_lexer": "ipython3",
   "version": "3.9.7"
  }
 },
 "nbformat": 4,
 "nbformat_minor": 2
}
