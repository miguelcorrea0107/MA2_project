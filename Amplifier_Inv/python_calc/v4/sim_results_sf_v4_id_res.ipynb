{
 "cells": [
  {
   "cell_type": "code",
   "execution_count": 7,
   "metadata": {},
   "outputs": [],
   "source": [
    "import numpy as np\n",
    "import ltspice\n",
    "import matplotlib.pyplot as plt\n",
    "import pandas as pd\n",
    "from __future__ import division\n",
    "import re"
   ]
  },
  {
   "cell_type": "markdown",
   "metadata": {},
   "source": [
    "## Functions to load and plot .raw files"
   ]
  },
  {
   "cell_type": "code",
   "execution_count": 8,
   "metadata": {},
   "outputs": [],
   "source": [
    "def plot_dynamic(arrs, plots_metadata, x_scale='linear', y_scale='linear', is_data_in_dB=False, mark_cutoff=False, num_plots=None):\n",
    "    plot_number = 1  # Initialize plot number before the loop\n",
    "    for data, meta in zip(arrs, plots_metadata):\n",
    "        n_vars = int(meta[b'no. variables']) - 1\n",
    "        if num_plots is not None:\n",
    "            n_vars = min(n_vars, num_plots)  # Limit the number of plots if num_plots is set\n",
    "\n",
    "        x_var_name = meta['varnames'][0]\n",
    "        x_data = data[x_var_name]  # Assume x-data is positive and linear\n",
    "\n",
    "        fig, axes = plt.subplots(n_vars, 1, figsize=(10, 5 * n_vars))\n",
    "        if n_vars == 1:\n",
    "            axes = [axes]  # Make axes iterable if only one plot\n",
    "\n",
    "        for i in range(1, n_vars + 1):\n",
    "            ax = axes[i-1 if n_vars > 1 else 0]\n",
    "            y_var_name = meta['varnames'][i]\n",
    "            y_data = data[y_var_name]\n",
    "            \n",
    "            label = y_var_name\n",
    "            y_data_plot = y_data  # Assume the data is already correctly formatted for plotting\n",
    "            \n",
    "            ax.plot(x_data, y_data_plot, label=label)\n",
    "            ax.ticklabel_format(style='plain', axis='both', useOffset=False)\n",
    "            ax.set_xlabel(f'{x_var_name} ({meta[\"varunits\"][0]})')\n",
    "            ax.set_ylabel(f'{y_var_name} ({meta[\"varunits\"][i]})')\n",
    "            ax.set_xscale(x_scale)\n",
    "            ax.set_yscale(y_scale)\n",
    "            ax.set_title(f'{y_var_name} vs. {x_var_name} ({plot_number})')\n",
    "            ax.legend()\n",
    "            ax.grid(True)\n",
    "\n",
    "            if mark_cutoff and is_data_in_dB:\n",
    "                max_gain = np.max(y_data_plot)\n",
    "                db3_drop = max_gain - 3\n",
    "                max_gain_index = np.argmax(y_data_plot)\n",
    "\n",
    "                lower_indices = np.where(y_data_plot[:max_gain_index] <= db3_drop)[0]\n",
    "                upper_indices = np.where(y_data_plot[max_gain_index:] <= db3_drop)[0] + max_gain_index\n",
    "                \n",
    "                if lower_indices.size > 0:\n",
    "                    lower_cutoff_frequency = x_data[lower_indices[-1]]\n",
    "                    ax.axvline(x=lower_cutoff_frequency, color='red', linestyle='--', label='Lower Cutoff Frequency')\n",
    "                else:\n",
    "                    lower_cutoff_frequency = 0\n",
    "                if upper_indices.size > 0:\n",
    "                    upper_cutoff_frequency = x_data[upper_indices[0]]\n",
    "                    ax.axvline(x=upper_cutoff_frequency, color='blue', linestyle='--', label='Upper Cutoff Frequency')\n",
    "                else:\n",
    "                    upper_cutoff_frequency = 0\n",
    "                \n",
    "                ax.axhline(y=db3_drop, color='green', linestyle='--', label='-3 dB line')\n",
    "                ax.legend()\n",
    "\n",
    "            plot_number += 1  # Increment plot number for each subplot\n",
    "            if num_plots is not None and plot_number > num_plots:\n",
    "                break  # Exit the loop early if the maximum number of plots has been reached\n",
    "\n",
    "        plt.tight_layout()\n",
    "        plt.show()\n",
    "        if mark_cutoff and is_data_in_dB:\n",
    "            return max_gain.real, lower_cutoff_frequency.real, upper_cutoff_frequency.real\n",
    "\n",
    "        \n",
    "BSIZE_SP = 512 # Max size of a line of data; we don't want to read the\n",
    "               # whole file to find a line, in case file does not have\n",
    "               # expected structure.\n",
    "MDATA_LIST = [b'title', b'date', b'plotname', b'flags', b'no. variables',\n",
    "              b'no. points', b'dimensions', b'command', b'option']\n",
    "\n",
    "def rawread(fname: str):\n",
    "    \"\"\"Read ngspice binary raw files. Return tuple of the data, and the\n",
    "    plot metadata. The dtype of the data contains field names. This is\n",
    "    not very robust yet, and only supports ngspice.\n",
    "    >>> darr, mdata = rawread('test.py')\n",
    "    >>> darr.dtype.names\n",
    "    >>> plot(np.real(darr['frequency']), np.abs(darr['v(out)']))\n",
    "    \"\"\"\n",
    "    # Example header of raw file\n",
    "    # Title: rc band pass example circuit\n",
    "    # Date: Sun Feb 21 11:29:14  2016\n",
    "    # Plotname: AC Analysis\n",
    "    # Flags: complex\n",
    "    # No. Variables: 3\n",
    "    # No. Points: 41\n",
    "    # Variables:\n",
    "    #         0       frequency       frequency       grid=3\n",
    "    #         1       v(out)  voltage\n",
    "    #         2       v(in)   voltage\n",
    "    # Binary:\n",
    "    fp = open(fname, 'rb')\n",
    "    count = 0\n",
    "    arrs = []\n",
    "    plots = []\n",
    "    plot = {}\n",
    "    while (True):\n",
    "        try:\n",
    "            mdata = fp.readline(BSIZE_SP).split(b':', maxsplit=1)\n",
    "        except:\n",
    "            raise\n",
    "        if len(mdata) == 2:\n",
    "            if mdata[0].lower() in MDATA_LIST:\n",
    "                plot[mdata[0].lower()] = mdata[1].strip()\n",
    "            if mdata[0].lower() == b'variables':\n",
    "                nvars = int(plot[b'no. variables'])\n",
    "                npoints = int(plot[b'no. points'])\n",
    "                plot['varnames'] = []\n",
    "                plot['varunits'] = []\n",
    "                for varn in range(nvars):\n",
    "                    varspec = (fp.readline(BSIZE_SP).strip()\n",
    "                               .decode('ascii').split())\n",
    "                    assert(varn == int(varspec[0]))\n",
    "                    plot['varnames'].append(varspec[1])\n",
    "                    plot['varunits'].append(varspec[2])\n",
    "            if mdata[0].lower() == b'binary':\n",
    "                rowdtype = np.dtype({'names': plot['varnames'],\n",
    "                                     'formats': [np.complex_ if b'complex'\n",
    "                                                 in plot[b'flags']\n",
    "                                                 else np.float_]*nvars})\n",
    "                # We should have all the metadata by now\n",
    "                arrs.append(np.fromfile(fp, dtype=rowdtype, count=npoints))\n",
    "                plots.append(plot)\n",
    "                plot = {} # reset the plot dict\n",
    "                fp.readline() # Read to the end of line\n",
    "        else:\n",
    "            break\n",
    "    return (arrs, plots)"
   ]
  },
  {
   "cell_type": "markdown",
   "metadata": {},
   "source": [
    "# Simulation results v4"
   ]
  },
  {
   "cell_type": "markdown",
   "metadata": {},
   "source": [
    "## Store simulation?"
   ]
  },
  {
   "cell_type": "code",
   "execution_count": 9,
   "metadata": {},
   "outputs": [],
   "source": [
    "store_sim = False"
   ]
  },
  {
   "cell_type": "markdown",
   "metadata": {},
   "source": [
    "## Loading values of parameters"
   ]
  },
  {
   "cell_type": "code",
   "execution_count": 10,
   "metadata": {},
   "outputs": [
    {
     "name": "stdout",
     "output_type": "stream",
     "text": [
      "The values of the parameters are: \n",
      "Vdd =  1.125\n",
      "Wn =  250.0\n",
      "Ln =  1.0\n",
      "Wp =  200.0\n",
      "Lp =  0.25\n",
      "R1_Wn =  nan\n",
      "R1_Ln =  nan\n",
      "R1_Vg =  nan\n",
      "R2_Wn =  nan\n",
      "R2_Ln =  nan\n",
      "R2_Vg =  nan\n",
      "Wc1 =  26.0\n",
      "Lc1 =  26.0\n",
      "MFc1 =  1.0\n",
      "C_1 =  1.37176e-12\n",
      "C2_Wn =  100.0\n",
      "C2_Ln =  10.0\n",
      "Vdc =  0.51439\n"
     ]
    }
   ],
   "source": [
    "# Arrays to store the results of the simulations\n",
    "param_values = np.zeros(17)    # order: Vdd, Wn, Ln, Wp, Lp, R1_Wn, R1_Ln, R1_Vg, R2_Wn, R2_Ln, R2_Vg, Wc1, Lc1, MFc1, C_1, C2_Wn, C2_Ln, Vdc\n",
    "results_sim = np.zeros(4)    # order: gain (in dB), cut-off, noise, power\n",
    "\n",
    "def extract_spice_params(file_path):\n",
    "    # Parameters to extract\n",
    "    params = {\n",
    "        'Vdd': None,\n",
    "        'Wn': None,\n",
    "        'Ln': None,\n",
    "        'Wp': None,\n",
    "        'Lp': None,\n",
    "        'R1_Wn': None,\n",
    "        'R1_Ln': None,\n",
    "        'R1_Vg': None,\n",
    "        'R2_Wn': None,\n",
    "        'R2_Wp': None,\n",
    "        'R2_Vg': None,\n",
    "        'Wc1': None,\n",
    "        'Lc1': None,\n",
    "        'MFc1': None,\n",
    "        'C_1': None,\n",
    "        'C2_Wn': None,\n",
    "        'C2_Ln': None,\n",
    "        'Vdc': None\n",
    "    }\n",
    "    \n",
    "    # Open and read the SPICE file\n",
    "    with open(file_path, 'r') as file:\n",
    "        content = file.readlines()\n",
    "    \n",
    "    # Regex patterns to capture values\n",
    "    patterns = {\n",
    "        'Vdd': r'VP VCC GND dc (\\d+\\.?\\d*)',\n",
    "        'Vdc': r'Vin in GND (\\d+\\.?\\d*) ac',\n",
    "        'Wn': r'x1 VS1 VD1 VCC VSS not W_N=(\\d+\\.?\\d*) L_N=',  # Adjusted to target the specific line\n",
    "        'Ln': r'x1 VS1 VD1 VCC VSS not .*L_N=(\\d+\\.?\\d*) W_P=',  # Adjusted to target the specific line\n",
    "        'Wp': r'x1 VS1 VD1 VCC VSS not .*W_P=(\\d+\\.?\\d*)',\n",
    "        'Lp': r'x1 VS1 VD1 VCC VSS not .*L_P=(\\d+\\.?\\d*) m=',  # Adjusted to target the specific line\n",
    "        'R1_Wn': r'XM1 .+ W=(\\d+\\.?\\d*) nf=',\n",
    "        'R1_Ln': r'XM1 .+ L=(\\d+\\.?\\d*) W=',\n",
    "        'R1_Vg': r'VG1 VG1 GND dc (\\d+\\.?\\d*)',\n",
    "        'R2_Wn': r'XM2 .+ W=(\\d+\\.?\\d*) nf=',\n",
    "        'R2_Wp': r'XM2 .+ L=(\\d+\\.?\\d*) W=',\n",
    "        'R2_Vg': r'VG2 VG2 GND dc (\\d+\\.?\\d*)',\n",
    "        'Wc1': r'XC1 .+ W=(\\d+\\.?\\d*) L=',\n",
    "        'Lc1': r'XC1 .+ L=(\\d+\\.?\\d*)',\n",
    "        'MFc1': r'XC1 .+ MF=(\\d+\\.?\\d*) m=',\n",
    "        'C2_Wn': r'XM3 .+ W=(\\d+\\.?\\d*) nf=',\n",
    "        'C2_Ln': r'XM3 .+ L=(\\d+\\.?\\d*) W=',\n",
    "    }\n",
    "    \n",
    "    # Extract parameters\n",
    "    for line in content:\n",
    "        for key, pattern in patterns.items():\n",
    "            match = re.search(pattern, line)\n",
    "            if match:\n",
    "                params[key] = float(match.group(1))\n",
    "\n",
    "    # Calculate capacitance using the given formula\n",
    "    if params['Wc1'] and params['Lc1'] and params['MFc1']:\n",
    "        params['C_1'] = params['MFc1'] * params['Wc1'] * params['Lc1']  # Simple multiplication\n",
    "\n",
    "    # Convert to NumPy array\n",
    "    param_values = np.array([params[key] for key in params], dtype=float)\n",
    "    \n",
    "    return param_values\n",
    "\n",
    "# Usage\n",
    "file_path = \"../../netlist/tb_inv_sky130_a_sf_v4_id_res.spice\"\n",
    "param_values = extract_spice_params(file_path)\n",
    "print(\"The values of the parameters are: \")\n",
    "print(\"Vdd = \", param_values[0])\n",
    "print(\"Wn = \", param_values[1])\n",
    "print(\"Ln = \", param_values[2])\n",
    "print(\"Wp = \", param_values[3])\n",
    "print(\"Lp = \", param_values[4])\n",
    "print(\"R1_Wn = \", param_values[5])\n",
    "print(\"R1_Ln = \", param_values[6])\n",
    "print(\"R1_Vg = \", param_values[7])\n",
    "print(\"R2_Wn = \", param_values[8])\n",
    "print(\"R2_Ln = \", param_values[9])\n",
    "print(\"R2_Vg = \", param_values[10])\n",
    "print(\"Wc1 = \", param_values[11])\n",
    "print(\"Lc1 = \", param_values[12])\n",
    "print(\"MFc1 = \", param_values[13])\n",
    "param_values[14] = param_values[13] * (param_values[11] * param_values[12] * 2e-15 + (param_values[11] + param_values[12]) * 0.38e-15)\n",
    "print(\"C_1 = \", param_values[14])\n",
    "print(\"C2_Wn = \", param_values[15])\n",
    "print(\"C2_Ln = \", param_values[16])\n",
    "print(\"Vdc = \", param_values[17])\n",
    "\n",
    "R1_value = param_values[7]\n",
    "R2_value = param_values[10]\n",
    "C1_value = param_values[14]*1e15   # Convert to fF"
   ]
  },
  {
   "cell_type": "markdown",
   "metadata": {},
   "source": [
    "## Loading OP"
   ]
  },
  {
   "cell_type": "code",
   "execution_count": 11,
   "metadata": {},
   "outputs": [
    {
     "name": "stdout",
     "output_type": "stream",
     "text": [
      "[Warning] Variable data type is detected as double precision.\n",
      "The operating point values are:\n",
      "gmn =  5.012032414191346e-05\n",
      "gmp =  3.729091666842079e-05\n",
      "gdsn =  3.9131550644865513e-07\n",
      "gdsp =  1.1118524899064847e-06\n",
      "cgsn =  5.750071126295119e-13\n",
      "cgsp =  5.425256907923255e-14\n",
      "cgdn =  7.705211245224898e-16\n",
      "cgdp =  7.779013734173745e-18\n"
     ]
    }
   ],
   "source": [
    "filepath = '../../netlist/tb_inv_sky130_a_op_sf_v4_id_res.raw'  # Update to your file's path\n",
    "\n",
    "# Load the LTSpice file\n",
    "lt = ltspice.Ltspice(filepath)\n",
    "lt.parse()\n",
    "\n",
    "op = np.zeros(8)    # order: G_mn, G_mp, G_dsn, G_dsp, C_gsn, C_gsp, C_gdn, C_gdp\n",
    "\n",
    "# Get the data by specifying the trace name\n",
    "gmn = lt.get_data('gmn')\n",
    "gmp = lt.get_data('gmp')\n",
    "gdsn = lt.get_data('gdsn')\n",
    "gdsp = lt.get_data('gdsp')\n",
    "cgsn = lt.get_data('cgsn')\n",
    "cgsp = lt.get_data('cgsp')\n",
    "cgdn = lt.get_data('cgdn')\n",
    "cgdp = lt.get_data('cgdp')\n",
    "\n",
    "# Create numpy array\n",
    "#The values are stored in the following order: G_mn, G_mp, G_dsn, G_dsp, C_gsn, C_gsp\n",
    "op = np.array([gmn, gmp, gdsn, gdsp, abs(cgsn), abs(cgsp), abs(cgdn), abs(cgdp)]).flatten()\n",
    "print(\"The operating point values are:\")\n",
    "print(\"gmn = \", op[0])\n",
    "print(\"gmp = \", op[1])\n",
    "print(\"gdsn = \", op[2])\n",
    "print(\"gdsp = \", op[3])\n",
    "print(\"cgsn = \", op[4])\n",
    "print(\"cgsp = \", op[5])\n",
    "print(\"cgdn = \", op[6])\n",
    "print(\"cgdp = \", op[7])"
   ]
  },
  {
   "cell_type": "markdown",
   "metadata": {},
   "source": [
    "## Noise"
   ]
  },
  {
   "cell_type": "code",
   "execution_count": 12,
   "metadata": {},
   "outputs": [
    {
     "name": "stdout",
     "output_type": "stream",
     "text": [
      "[Warning] Variable data type is detected as double precision.\n",
      "The noise values are:\n",
      "inoise total = 16.707984132429676 uV\n"
     ]
    }
   ],
   "source": [
    "filepath = '../../netlist/tb_inv_sky130_a_noise_sf_v4_id_res.raw'  # Update to your file's path\n",
    "\n",
    "# Load the LTSpice file\n",
    "lt = ltspice.Ltspice(filepath)\n",
    "lt.parse()\n",
    "\n",
    "# Get the data by specifying the trace name\n",
    "inoise = lt.get_data('v(inoise_total)')[0]*1e6  # Convert to uV\n",
    "print(\"The noise values are:\")\n",
    "print(f\"inoise total = {inoise} uV\")"
   ]
  },
  {
   "cell_type": "code",
   "execution_count": 13,
   "metadata": {},
   "outputs": [
    {
     "data": {
      "image/png": "[encoded data removed]",
      "text/plain": [
       "<Figure size 720x360 with 1 Axes>"
      ]
     },
     "metadata": {
      "needs_background": "light"
     },
     "output_type": "display_data"
    }
   ],
   "source": [
    "# Specify the path to your .raw file\n",
    "filepath = '../../netlist/tb_inv_sky130_a_noise_spectrum_sf_v4_id_res.raw'\n",
    "\n",
    "arrs, plots = rawread(filepath)\n",
    "plot_dynamic(arrs, plots, x_scale='linear', y_scale='linear', is_data_in_dB=False, mark_cutoff=True, num_plots=1)"
   ]
  },
  {
   "cell_type": "markdown",
   "metadata": {},
   "source": [
    "## DC analysis"
   ]
  },
  {
   "cell_type": "code",
   "execution_count": 14,
   "metadata": {},
   "outputs": [
    {
     "data": {
      "image/png": "[encoded data removed]",
      "text/plain": [
       "<Figure size 720x1080 with 3 Axes>"
      ]
     },
     "metadata": {
      "needs_background": "light"
     },
     "output_type": "display_data"
    },
    {
     "name": "stdout",
     "output_type": "stream",
     "text": [
      "v(out) equals v(v-sweep) at v = 0.40809 V\n",
      "v(out) equals v(v-sweep) at v = 0.40810 V\n",
      "v(out) equals v(v-sweep) at v = 0.40811 V\n",
      "vs1 = 0.40810 V\n",
      "vs2 = 0.40811 V\n"
     ]
    }
   ],
   "source": [
    "\n",
    "filepath = '../../netlist/tb_inv_sky130_a_DC_sf_v4_id_res.raw'\n",
    "arrs, plots = rawread(filepath)\n",
    "plot_dynamic(arrs, plots, x_scale='linear', y_scale='linear', is_data_in_dB=False, mark_cutoff=False)\n",
    "for data, meta in zip(arrs, plots):\n",
    "    x_data = data['v(v-sweep)']  # Assuming this is your x-axis data name\n",
    "    y_data = data['v(out)']  # Assuming this is your y-axis data name\n",
    "        \n",
    "    # Find indices where v(out) approximately equals v(v-sweep)\n",
    "    # Using np.isclose to handle floating-point precision issues\n",
    "    indices = np.where(np.isclose(x_data, y_data, atol=1e-5))[0]\n",
    "        \n",
    "    if indices.size > 0:\n",
    "        for index in indices:\n",
    "            print(f\"v(out) equals v(v-sweep) at v = {x_data[index]:.5f} V\")\n",
    "    else:\n",
    "        print(\"No points found where v(out) equals v(v-sweep)\")\n",
    "    \n",
    "    y_data = data['v(x1.vs1)']\n",
    "    print(f\"vs1 = {y_data[index]:.5f} V\")\n",
    "    print(f\"vs2 = {x_data[index]:.5f} V\")\n",
    "    "
   ]
  },
  {
   "cell_type": "markdown",
   "metadata": {},
   "source": [
    "## AC analysis"
   ]
  },
  {
   "cell_type": "code",
   "execution_count": 15,
   "metadata": {},
   "outputs": [
    {
     "name": "stderr",
     "output_type": "stream",
     "text": [
      "/Users/miguelcorrea/opt/miniconda3/lib/python3.9/site-packages/matplotlib/cbook/__init__.py:1298: ComplexWarning: Casting complex values to real discards the imaginary part\n",
      "  return np.asarray(x, float)\n"
     ]
    },
    {
     "data": {
      "image/png": "[encoded data removed]",
      "text/plain": [
       "<Figure size 720x360 with 1 Axes>"
      ]
     },
     "metadata": {
      "needs_background": "light"
     },
     "output_type": "display_data"
    },
    {
     "name": "stdout",
     "output_type": "stream",
     "text": [
      "The peak gain is: 20.140947858499523 dB\n",
      "The lower cutoff frequency is: 369.82817978021495 Hz\n",
      "The upper cutoff frequency is: 4634.46919736197 Hz\n"
     ]
    }
   ],
   "source": [
    "arrs, plots = rawread('../../netlist/tb_inv_sky130_a_AC_sf_v4_id_res.raw')\n",
    "peak_gain, lower_cutoff_frequency_sim, upper_cutoff_frequency_sim = plot_dynamic(arrs, plots, x_scale='log', y_scale='linear', is_data_in_dB=True, mark_cutoff=True, num_plots=1)\n",
    "print(f\"The peak gain is: {peak_gain} dB\")\n",
    "print(f\"The lower cutoff frequency is: {lower_cutoff_frequency_sim} Hz\")\n",
    "print(f\"The upper cutoff frequency is: {upper_cutoff_frequency_sim} Hz\")"
   ]
  },
  {
   "cell_type": "markdown",
   "metadata": {},
   "source": [
    "## Power (and trans) simulation"
   ]
  },
  {
   "cell_type": "code",
   "execution_count": 16,
   "metadata": {},
   "outputs": [
    {
     "ename": "FileNotFoundError",
     "evalue": "[Errno 2] No such file or directory: '../../netlist/tb_inv_sky130_a_tran_sf_v4_id_res.raw'",
     "output_type": "error",
     "traceback": [
      "\u001b[0;31m---------------------------------------------------------------------------\u001b[0m",
      "\u001b[0;31mFileNotFoundError\u001b[0m                         Traceback (most recent call last)",
      "Input \u001b[0;32mIn [16]\u001b[0m, in \u001b[0;36m<cell line: 3>\u001b[0;34m()\u001b[0m\n\u001b[1;32m      1\u001b[0m filepath \u001b[38;5;241m=\u001b[39m \u001b[38;5;124m'\u001b[39m\u001b[38;5;124m../../netlist/tb_inv_sky130_a_tran_sf_v4_id_res.raw\u001b[39m\u001b[38;5;124m'\u001b[39m  \u001b[38;5;66;03m# Update to your .raw file path\u001b[39;00m\n\u001b[0;32m----> 3\u001b[0m arrs, plots \u001b[38;5;241m=\u001b[39m \u001b[43mrawread\u001b[49m\u001b[43m(\u001b[49m\u001b[43mfilepath\u001b[49m\u001b[43m)\u001b[49m\n\u001b[1;32m      4\u001b[0m plot_dynamic(arrs, plots, x_scale\u001b[38;5;241m=\u001b[39m\u001b[38;5;124m'\u001b[39m\u001b[38;5;124mlinear\u001b[39m\u001b[38;5;124m'\u001b[39m, y_scale\u001b[38;5;241m=\u001b[39m\u001b[38;5;124m'\u001b[39m\u001b[38;5;124mlinear\u001b[39m\u001b[38;5;124m'\u001b[39m, is_data_in_dB\u001b[38;5;241m=\u001b[39m\u001b[38;5;28;01mFalse\u001b[39;00m, mark_cutoff\u001b[38;5;241m=\u001b[39m\u001b[38;5;28;01mFalse\u001b[39;00m, num_plots\u001b[38;5;241m=\u001b[39m\u001b[38;5;241m6\u001b[39m)\n",
      "Input \u001b[0;32mIn [8]\u001b[0m, in \u001b[0;36mrawread\u001b[0;34m(fname)\u001b[0m\n\u001b[1;32m     72\u001b[0m \u001b[38;5;124;03m\"\"\"Read ngspice binary raw files. Return tuple of the data, and the\u001b[39;00m\n\u001b[1;32m     73\u001b[0m \u001b[38;5;124;03mplot metadata. The dtype of the data contains field names. This is\u001b[39;00m\n\u001b[1;32m     74\u001b[0m \u001b[38;5;124;03mnot very robust yet, and only supports ngspice.\u001b[39;00m\n\u001b[0;32m   (...)\u001b[0m\n\u001b[1;32m     77\u001b[0m \u001b[38;5;124;03m>>> plot(np.real(darr['frequency']), np.abs(darr['v(out)']))\u001b[39;00m\n\u001b[1;32m     78\u001b[0m \u001b[38;5;124;03m\"\"\"\u001b[39;00m\n\u001b[1;32m     79\u001b[0m \u001b[38;5;66;03m# Example header of raw file\u001b[39;00m\n\u001b[1;32m     80\u001b[0m \u001b[38;5;66;03m# Title: rc band pass example circuit\u001b[39;00m\n\u001b[1;32m     81\u001b[0m \u001b[38;5;66;03m# Date: Sun Feb 21 11:29:14  2016\u001b[39;00m\n\u001b[0;32m   (...)\u001b[0m\n\u001b[1;32m     89\u001b[0m \u001b[38;5;66;03m#         2       v(in)   voltage\u001b[39;00m\n\u001b[1;32m     90\u001b[0m \u001b[38;5;66;03m# Binary:\u001b[39;00m\n\u001b[0;32m---> 91\u001b[0m fp \u001b[38;5;241m=\u001b[39m \u001b[38;5;28;43mopen\u001b[39;49m\u001b[43m(\u001b[49m\u001b[43mfname\u001b[49m\u001b[43m,\u001b[49m\u001b[43m \u001b[49m\u001b[38;5;124;43m'\u001b[39;49m\u001b[38;5;124;43mrb\u001b[39;49m\u001b[38;5;124;43m'\u001b[39;49m\u001b[43m)\u001b[49m\n\u001b[1;32m     92\u001b[0m count \u001b[38;5;241m=\u001b[39m \u001b[38;5;241m0\u001b[39m\n\u001b[1;32m     93\u001b[0m arrs \u001b[38;5;241m=\u001b[39m []\n",
      "\u001b[0;31mFileNotFoundError\u001b[0m: [Errno 2] No such file or directory: '../../netlist/tb_inv_sky130_a_tran_sf_v4_id_res.raw'"
     ]
    }
   ],
   "source": [
    "filepath = '../../netlist/tb_inv_sky130_a_tran_sf_v4_id_res.raw'  # Update to your .raw file path\n",
    "\n",
    "arrs, plots = rawread(filepath)\n",
    "plot_dynamic(arrs, plots, x_scale='linear', y_scale='linear', is_data_in_dB=False, mark_cutoff=False, num_plots=6)"
   ]
  },
  {
   "cell_type": "code",
   "execution_count": null,
   "metadata": {},
   "outputs": [
    {
     "name": "stdout",
     "output_type": "stream",
     "text": [
      "[Warning] Variable data type is detected as double precision.\n",
      "The average power is: 2.241864 uW\n"
     ]
    }
   ],
   "source": [
    "filepath = '../../netlist/tb_inv_sky130_a_tran_sf_v4_id_res.raw'  # Update to your .raw file path\n",
    "\n",
    "# Load the LTSpice raw file\n",
    "lt = ltspice.Ltspice(filepath)\n",
    "lt.parse()\n",
    "avg_pw_total = lt.get_data('avg_pw_total')[0]*1e6  # Convert to uW\n",
    "print(f\"The average power is: {abs(avg_pw_total)} uW\")"
   ]
  },
  {
   "cell_type": "markdown",
   "metadata": {},
   "source": [
    "#### Results of simulation summary"
   ]
  },
  {
   "cell_type": "code",
   "execution_count": null,
   "metadata": {},
   "outputs": [
    {
     "name": "stdout",
     "output_type": "stream",
     "text": [
      "The results of the simulation are: \n",
      "Gain = 21.063557582878655 dB\n",
      "Lower cut-off = 597.0352865837475 Hz\n",
      "Upper cut-off = 106.41430182240312 kHz\n",
      "Noise = 13.050569530354801 uV\n",
      "Power = 2.241864 uW\n"
     ]
    }
   ],
   "source": [
    "# Here I will store my real simulation outputs\n",
    "# order: gain (in dB), cut-off, noise, power\n",
    "results_sim = np.array([peak_gain.real, lower_cutoff_frequency_sim.real,upper_cutoff_frequency_sim.real, inoise.real, abs(avg_pw_total.real)])\n",
    "print(\"The results of the simulation are: \")\n",
    "print(f\"Gain = {results_sim[0]} dB\")\n",
    "print(f\"Lower cut-off = {results_sim[1]} Hz\")\n",
    "print(f\"Upper cut-off = {results_sim[2]/1e3} kHz\")\n",
    "print(f\"Noise = {results_sim[3]} uV\")\n",
    "print(f\"Power = {results_sim[4]} uW\")"
   ]
  },
  {
   "cell_type": "markdown",
   "metadata": {},
   "source": [
    "## Other simulation results"
   ]
  },
  {
   "cell_type": "code",
   "execution_count": null,
   "metadata": {},
   "outputs": [],
   "source": [
    "if store_sim == True:\n",
    "    with open('param_values_sf_v4_id_res.txt', 'ab') as f:  # \n",
    "        np.savetxt(f, param_values, fmt='%e', delimiter=',')\n",
    "    with open('results_sim_sf_v4_id_res.txt', 'ab') as f:  # \n",
    "        np.savetxt(f, results_sim, fmt='%e', delimiter=',')"
   ]
  },
  {
   "cell_type": "code",
   "execution_count": null,
   "metadata": {},
   "outputs": [
    {
     "data": {
      "text/html": [
       "<div>\n",
       "<style scoped>\n",
       "    .dataframe tbody tr th:only-of-type {\n",
       "        vertical-align: middle;\n",
       "    }\n",
       "\n",
       "    .dataframe tbody tr th {\n",
       "        vertical-align: top;\n",
       "    }\n",
       "\n",
       "    .dataframe thead th {\n",
       "        text-align: right;\n",
       "    }\n",
       "</style>\n",
       "<table border=\"1\" class=\"dataframe\">\n",
       "  <thead>\n",
       "    <tr style=\"text-align: right;\">\n",
       "      <th></th>\n",
       "      <th>Vdd</th>\n",
       "      <th>Wn</th>\n",
       "      <th>Ln</th>\n",
       "      <th>Wp</th>\n",
       "      <th>Lp</th>\n",
       "      <th>R1_Wn</th>\n",
       "      <th>R1_Ln</th>\n",
       "      <th>R1_Vg</th>\n",
       "      <th>R2_Wn</th>\n",
       "      <th>R2_Ln</th>\n",
       "      <th>...</th>\n",
       "      <th>MFc1</th>\n",
       "      <th>C1 (in pF)</th>\n",
       "      <th>C2_Wn</th>\n",
       "      <th>C2_Ln</th>\n",
       "      <th>Vdc (in mV)</th>\n",
       "      <th>gain (in dB)</th>\n",
       "      <th>lower cut-off frequency (in Hz)</th>\n",
       "      <th>upper cut-off frequency (in Hz)</th>\n",
       "      <th>noise in (uV)</th>\n",
       "      <th>power (in uW)</th>\n",
       "    </tr>\n",
       "  </thead>\n",
       "  <tbody>\n",
       "    <tr>\n",
       "      <th>0</th>\n",
       "      <td>1.125</td>\n",
       "      <td>250.0</td>\n",
       "      <td>1.0</td>\n",
       "      <td>200.0</td>\n",
       "      <td>0.25</td>\n",
       "      <td>0.5</td>\n",
       "      <td>0.15</td>\n",
       "      <td>0.725</td>\n",
       "      <td>0.5</td>\n",
       "      <td>0.15</td>\n",
       "      <td>...</td>\n",
       "      <td>1.0</td>\n",
       "      <td>1.37176</td>\n",
       "      <td>100.0</td>\n",
       "      <td>10.0</td>\n",
       "      <td>514.39</td>\n",
       "      <td>21.02515</td>\n",
       "      <td>1682.674</td>\n",
       "      <td>96161.23</td>\n",
       "      <td>27.38226</td>\n",
       "      <td>2.242148</td>\n",
       "    </tr>\n",
       "  </tbody>\n",
       "</table>\n",
       "<p>1 rows × 23 columns</p>\n",
       "</div>"
      ],
      "text/plain": [
       "     Vdd     Wn   Ln     Wp    Lp  R1_Wn  R1_Ln  R1_Vg  R2_Wn  R2_Ln  ...  \\\n",
       "0  1.125  250.0  1.0  200.0  0.25    0.5   0.15  0.725    0.5   0.15  ...   \n",
       "\n",
       "   MFc1  C1 (in pF)  C2_Wn  C2_Ln  Vdc (in mV)  gain (in dB)  \\\n",
       "0   1.0     1.37176  100.0   10.0       514.39      21.02515   \n",
       "\n",
       "   lower cut-off frequency (in Hz)  upper cut-off frequency (in Hz)  \\\n",
       "0                         1682.674                         96161.23   \n",
       "\n",
       "   noise in (uV)  power (in uW)  \n",
       "0       27.38226       2.242148  \n",
       "\n",
       "[1 rows x 23 columns]"
      ]
     },
     "execution_count": 394,
     "metadata": {},
     "output_type": "execute_result"
    }
   ],
   "source": [
    "# Load data from text files\n",
    "loaded_param_values = np.loadtxt('param_values_sf_v4_id_res.txt', delimiter=',')\n",
    "loaded_results_sim = np.loadtxt('results_sim_sf_v4_id_res.txt', delimiter=',')\n",
    "\n",
    "# Calculate the number of simulations based on the expected structure\n",
    "num_simulations_params = loaded_param_values.size // 18  # Assuming 20 parameters per simulation\n",
    "num_simulations_sim = loaded_results_sim.size // 5     # Assuming 5 simulated results per simulation\n",
    "\n",
    "# Reshape arrays to match the number of simulations and parameters\n",
    "loaded_param_values = loaded_param_values.reshape(num_simulations_params, 18)\n",
    "loaded_results_sim = loaded_results_sim.reshape(num_simulations_sim, 5)\n",
    "\n",
    "\n",
    "# Create DataFrames from the reshaped arrays\n",
    "# order: Vdd, Wn, Ln, Wp, Lp, R1_Wn, R1_Ln, R1_Vgs, R2_Wn, R2_Ln, R2_Vgs, Wc1, Lc1, MFc1, C_1, Wc2, Lc2, Mfc2, C_2, Vdc\n",
    "df_parameters = pd.DataFrame(loaded_param_values, columns=['Vdd', 'Wn', 'Ln', 'Wp', 'Lp', 'R1_Wn', 'R1_Ln', 'R1_Vg',\n",
    "                                                           'R2_Wn', 'R2_Ln', 'R2_Vg','Wc1', 'Lc1',\n",
    "                                                            'MFc1', 'C1 (in pF)', 'C2_Wn', 'C2_Ln', 'Vdc (in mV)'])\n",
    "\n",
    "df_simulated_results = pd.DataFrame(loaded_results_sim, columns=['gain (in dB)', 'lower cut-off frequency (in Hz)','upper cut-off frequency (in Hz)', 'noise in (uV)', 'power (in uW)'])\n",
    "\n",
    "df_complete_simulation_results = pd.concat([df_parameters, df_simulated_results], axis=1)\n",
    "\n",
    "df_complete_simulation_results['C1 (in pF)'] = df_complete_simulation_results['C1 (in pF)'] * 1e12\n",
    "df_complete_simulation_results['Vdc (in mV)'] = df_complete_simulation_results['Vdc (in mV)'] * 1e3\n",
    "\n",
    "df_complete_simulation_results.to_csv('complete_simulation_results_sf_v4_id_res.csv', index=False)\n",
    "\n",
    "df_complete_simulation_results"
   ]
  },
  {
   "cell_type": "code",
   "execution_count": null,
   "metadata": {},
   "outputs": [],
   "source": []
  }
 ],
 "metadata": {
  "kernelspec": {
   "display_name": "Python 3",
   "language": "python",
   "name": "python3"
  },
  "language_info": {
   "codemirror_mode": {
    "name": "ipython",
    "version": 3
   },
   "file_extension": ".py",
   "mimetype": "text/x-python",
   "name": "python",
   "nbconvert_exporter": "python",
   "pygments_lexer": "ipython3",
   "version": "3.9.7"
  }
 },
 "nbformat": 4,
 "nbformat_minor": 2
}
